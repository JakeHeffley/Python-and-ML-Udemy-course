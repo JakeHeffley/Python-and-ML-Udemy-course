{
 "cells": [
  {
   "cell_type": "markdown",
   "metadata": {},
   "source": [
    "# 26 Big Data with Spark and Python"
   ]
  },
  {
   "cell_type": "markdown",
   "metadata": {},
   "source": [
    "Big Data Overview: \n",
    "\n",
    "Often easier to use multiple lower power cpus in a distributed set up vs one local high power cpu. \n",
    "\n",
    "Hadoop is a way to distribute large files across multiple machines for a distributed analysis pipeline. \n",
    "Hadoop Distributed File System (HDFS) - utilizes map reduce which allows computations on distributed data. Main, Name Node distribues data to lower Data Nodes. Typically uses 128mb blocks with redundancies in data allocation so that if one node is lost the data can be recovered. \n",
    "\n",
    "MapReduce - splitting computation to a distributed set of files. Consists of a Job Tracker and multiple Task Trackers. \n",
    "Job Tracker send code to TTs. TTs allocate memory and other things. \n"
   ]
  },
  {
   "cell_type": "markdown",
   "metadata": {},
   "source": [
    "Spark Overview Lecture:\n",
    "\n",
    "Spark is a flexible alternative to MapReduce. But it can also use data stored in many other formats. \n",
    "\n",
    "Spark vs MapReduce: Spark can perform operations 100x faster and does not require files to be stored in Hadoop format. MapReduce writes data to disk after each operation. Spark only does this is memory gets full. \n",
    "\n",
    "Reslient Distrubuted Datasets - RDD - Distributed collection of data, fault tolerant, parallel operation, ability to use many data sources.\n",
    "\n",
    "Two types of RRD operations: transformations and actions. \n",
    "Actions: first, collect, count, take\n",
    "Transformations: filter, map, flatmap\n",
    "Map vs flatmap - map could grab first letter of a list of names. FlatMap could transform a corpus of text into a list of words. \n",
    "\n",
    "Pair RDDs have a key and a value.\n",
    "\n",
    "Two other methods: Reduce and ReduceByKey. They are similar to GroupBy. \n",
    "\n",
    "Spark ecosystem always expanding. "
   ]
  },
  {
   "cell_type": "markdown",
   "metadata": {},
   "source": [
    "EC2 - Amazon Elastic Compute Cloud - a web service that provides resizeable compute capacity in the cloud. Sorta like a virtual computer in the cloud. \n",
    "\n",
    "SSH - Secured Shell Connection - connects your computer to the EC2 on AWS over the internet. Setting up SSH on windows is more complex than mac/linux. \n",
    "\n"
   ]
  },
  {
   "cell_type": "code",
   "execution_count": null,
   "metadata": {},
   "outputs": [],
   "source": []
  }
 ],
 "metadata": {
  "kernelspec": {
   "display_name": "Python 3",
   "language": "python",
   "name": "python3"
  },
  "language_info": {
   "codemirror_mode": {
    "name": "ipython",
    "version": 3
   },
   "file_extension": ".py",
   "mimetype": "text/x-python",
   "name": "python",
   "nbconvert_exporter": "python",
   "pygments_lexer": "ipython3",
   "version": "3.8.3"
  }
 },
 "nbformat": 4,
 "nbformat_minor": 4
}
