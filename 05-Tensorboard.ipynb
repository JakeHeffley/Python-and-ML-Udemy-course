{
 "cells": [
  {
   "cell_type": "markdown",
   "metadata": {},
   "source": [
    "<a href=\"https://www.pieriandata.com\"><img src=\"../Pierian_Data_Logo.PNG\"></a>\n",
    "<strong><center>Copyright by Pierian Data Inc.</center></strong> \n",
    "<strong><center>Created by Jose Marcial Portilla.</center></strong>"
   ]
  },
  {
   "cell_type": "markdown",
   "metadata": {},
   "source": [
    "# Tensorboard\n",
    "\n",
    "---\n",
    "---\n",
    "\n",
    "**NOTE: You must watch the corresponding video to understand this lecture. This notebook can't serve as a full guide. Please watch the video BEFORE posting questions to the QA forum.**\n",
    "\n",
    "---\n",
    "---\n",
    "\n",
    "Let's explore the built in data visualization capabilities that come with Tensorboard.\n",
    "\n",
    "Full official tutorial available here: https://www.tensorflow.org/tensorboard/get_started\n",
    "\n",
    "## Data"
   ]
  },
  {
   "cell_type": "code",
   "execution_count": 1,
   "metadata": {},
   "outputs": [],
   "source": [
    "import pandas as pd\n",
    "import numpy as np"
   ]
  },
  {
   "cell_type": "code",
   "execution_count": 2,
   "metadata": {},
   "outputs": [],
   "source": [
    "df = pd.read_csv('../DATA/cancer_classification.csv')"
   ]
  },
  {
   "cell_type": "markdown",
   "metadata": {},
   "source": [
    "### Train Test Split"
   ]
  },
  {
   "cell_type": "code",
   "execution_count": 3,
   "metadata": {},
   "outputs": [],
   "source": [
    "X = df.drop('benign_0__mal_1',axis=1).values\n",
    "y = df['benign_0__mal_1'].values"
   ]
  },
  {
   "cell_type": "code",
   "execution_count": 4,
   "metadata": {},
   "outputs": [],
   "source": [
    "from sklearn.model_selection import train_test_split"
   ]
  },
  {
   "cell_type": "code",
   "execution_count": 5,
   "metadata": {},
   "outputs": [],
   "source": [
    "X_train, X_test, y_train, y_test = train_test_split(X,y,test_size=0.25,random_state=101)"
   ]
  },
  {
   "cell_type": "markdown",
   "metadata": {},
   "source": [
    "\n",
    "### Scaling Data"
   ]
  },
  {
   "cell_type": "code",
   "execution_count": 6,
   "metadata": {},
   "outputs": [],
   "source": [
    "from sklearn.preprocessing import MinMaxScaler"
   ]
  },
  {
   "cell_type": "code",
   "execution_count": 7,
   "metadata": {},
   "outputs": [],
   "source": [
    "scaler = MinMaxScaler()"
   ]
  },
  {
   "cell_type": "code",
   "execution_count": 8,
   "metadata": {},
   "outputs": [
    {
     "data": {
      "text/plain": [
       "MinMaxScaler()"
      ]
     },
     "execution_count": 8,
     "metadata": {},
     "output_type": "execute_result"
    }
   ],
   "source": [
    "scaler.fit(X_train)"
   ]
  },
  {
   "cell_type": "code",
   "execution_count": 9,
   "metadata": {},
   "outputs": [],
   "source": [
    "X_train = scaler.transform(X_train)\n",
    "X_test = scaler.transform(X_test)"
   ]
  },
  {
   "cell_type": "markdown",
   "metadata": {},
   "source": [
    "## Creating the Model"
   ]
  },
  {
   "cell_type": "code",
   "execution_count": 10,
   "metadata": {},
   "outputs": [],
   "source": [
    "import tensorflow as tf\n",
    "from tensorflow.keras.models import Sequential\n",
    "from tensorflow.keras.layers import Dense, Activation,Dropout"
   ]
  },
  {
   "cell_type": "code",
   "execution_count": 11,
   "metadata": {},
   "outputs": [],
   "source": [
    "from tensorflow.keras.callbacks import EarlyStopping,TensorBoard"
   ]
  },
  {
   "cell_type": "code",
   "execution_count": 12,
   "metadata": {},
   "outputs": [],
   "source": [
    "early_stop = EarlyStopping(monitor='val_loss', mode='min', verbose=1, patience=25)"
   ]
  },
  {
   "cell_type": "code",
   "execution_count": 13,
   "metadata": {},
   "outputs": [
    {
     "data": {
      "text/plain": [
       "'C:\\\\Users\\\\Jake\\\\Documents\\\\Class stuff\\\\Python ML class\\\\Course Repository\\\\TensorFlow_FILES\\\\ANNs'"
      ]
     },
     "execution_count": 13,
     "metadata": {},
     "output_type": "execute_result"
    }
   ],
   "source": [
    "pwd"
   ]
  },
  {
   "cell_type": "markdown",
   "metadata": {},
   "source": [
    "## Creating the Tensorboard Callback\n",
    "\n",
    "TensorBoard is a visualization tool provided with TensorFlow.\n",
    "\n",
    "This callback logs events for TensorBoard, including:\n",
    "* Metrics summary plots\n",
    "* Training graph visualization\n",
    "* Activation histograms\n",
    "* Sampled profiling\n",
    "\n",
    "If you have installed TensorFlow with pip, you should be able\n",
    "to launch TensorBoard from the command line:\n",
    "\n",
    "```sh\n",
    "tensorboard --logdir=path_to_your_logs\n",
    "```\n",
    "\n",
    "You can find more information about TensorBoard\n",
    "[here](https://www.tensorflow.org/tensorboard/).\n",
    "\n",
    "    Arguments:\n",
    "        log_dir: the path of the directory where to save the log files to be\n",
    "          parsed by TensorBoard.\n",
    "        histogram_freq: frequency (in epochs) at which to compute activation and\n",
    "          weight histograms for the layers of the model. If set to 0, histograms\n",
    "          won't be computed. Validation data (or split) must be specified for\n",
    "          histogram visualizations.\n",
    "        write_graph: whether to visualize the graph in TensorBoard. The log file\n",
    "          can become quite large when write_graph is set to True.\n",
    "        write_images: whether to write model weights to visualize as image in\n",
    "          TensorBoard.\n",
    "        update_freq: `'batch'` or `'epoch'` or integer. When using `'batch'`,\n",
    "          writes the losses and metrics to TensorBoard after each batch. The same\n",
    "          applies for `'epoch'`. If using an integer, let's say `1000`, the\n",
    "          callback will write the metrics and losses to TensorBoard every 1000\n",
    "          samples. Note that writing too frequently to TensorBoard can slow down\n",
    "          your training.\n",
    "        profile_batch: Profile the batch to sample compute characteristics. By\n",
    "          default, it will profile the second batch. Set profile_batch=0 to\n",
    "          disable profiling. Must run in TensorFlow eager mode.\n",
    "        embeddings_freq: frequency (in epochs) at which embedding layers will\n",
    "          be visualized. If set to 0, embeddings won't be visualized.\n",
    "       "
   ]
  },
  {
   "cell_type": "code",
   "execution_count": 14,
   "metadata": {},
   "outputs": [],
   "source": [
    "from datetime import datetime"
   ]
  },
  {
   "cell_type": "code",
   "execution_count": 15,
   "metadata": {},
   "outputs": [
    {
     "data": {
      "text/plain": [
       "'2020-09-28--0916'"
      ]
     },
     "execution_count": 15,
     "metadata": {},
     "output_type": "execute_result"
    }
   ],
   "source": [
    "datetime.now().strftime(\"%Y-%m-%d--%H%M\")"
   ]
  },
  {
   "cell_type": "code",
   "execution_count": 16,
   "metadata": {},
   "outputs": [],
   "source": [
    "# WINDOWS: Use \"logs\\\\fit\"\n",
    "# MACOS/LINUX: Use \"logs\\fit\"\n",
    "\n",
    "log_directory = 'logs\\\\fit'\n",
    "\n",
    "# OPTIONAL: ADD A TIMESTAMP FOR UNIQUE FOLDER\n",
    "timestamp = datetime.now().strftime(\"%Y-%m-%d--%H%M\")\n",
    "log_directory = log_directory + '\\\\' + timestamp\n",
    "\n",
    "\n",
    "board = TensorBoard(log_dir=log_directory,histogram_freq=1,\n",
    "    write_graph=True,\n",
    "    write_images=True,\n",
    "    update_freq='epoch',\n",
    "    profile_batch=2,\n",
    "    embeddings_freq=1)"
   ]
  },
  {
   "cell_type": "markdown",
   "metadata": {},
   "source": [
    "Now create the model layers:"
   ]
  },
  {
   "cell_type": "code",
   "execution_count": 17,
   "metadata": {},
   "outputs": [],
   "source": [
    "model = Sequential()\n",
    "model.add(Dense(units=30,activation='relu'))\n",
    "model.add(Dropout(0.5))\n",
    "model.add(Dense(units=15,activation='relu'))\n",
    "model.add(Dropout(0.5))\n",
    "model.add(Dense(units=1,activation='sigmoid'))\n",
    "model.compile(loss='binary_crossentropy', optimizer='adam')"
   ]
  },
  {
   "cell_type": "markdown",
   "metadata": {},
   "source": [
    "## Train the Model"
   ]
  },
  {
   "cell_type": "code",
   "execution_count": 18,
   "metadata": {},
   "outputs": [
    {
     "name": "stdout",
     "output_type": "stream",
     "text": [
      "Epoch 1/600\n",
      " 1/14 [=>............................] - ETA: 0s - loss: 0.6204WARNING:tensorflow:From c:\\users\\jake\\anaconda3\\envs\\udemy_env\\lib\\site-packages\\tensorflow\\python\\ops\\summary_ops_v2.py:1277: stop (from tensorflow.python.eager.profiler) is deprecated and will be removed after 2020-07-01.\n",
      "Instructions for updating:\n",
      "use `tf.profiler.experimental.stop` instead.\n",
      " 2/14 [===>..........................] - ETA: 8s - loss: 0.6917WARNING:tensorflow:Callbacks method `on_train_batch_end` is slow compared to the batch time (batch time: 0.0730s vs `on_train_batch_end` time: 1.3321s). Check your callbacks.\n",
      "14/14 [==============================] - 3s 233ms/step - loss: 0.6850 - val_loss: 0.6767\n",
      "Epoch 2/600\n",
      "14/14 [==============================] - 1s 48ms/step - loss: 0.6714 - val_loss: 0.6569\n",
      "Epoch 3/600\n",
      "14/14 [==============================] - 1s 69ms/step - loss: 0.6490 - val_loss: 0.6392\n",
      "Epoch 4/600\n",
      "14/14 [==============================] - 1s 55ms/step - loss: 0.6486 - val_loss: 0.6171\n",
      "Epoch 5/600\n",
      "14/14 [==============================] - 1s 60ms/step - loss: 0.6088 - val_loss: 0.5911\n",
      "Epoch 6/600\n",
      "14/14 [==============================] - 1s 79ms/step - loss: 0.6051 - val_loss: 0.5630\n",
      "Epoch 7/600\n",
      "14/14 [==============================] - 1s 68ms/step - loss: 0.5989 - val_loss: 0.5384\n",
      "Epoch 8/600\n",
      "14/14 [==============================] - 1s 50ms/step - loss: 0.5690 - val_loss: 0.5211\n",
      "Epoch 9/600\n",
      "14/14 [==============================] - 1s 49ms/step - loss: 0.5490 - val_loss: 0.5028\n",
      "Epoch 10/600\n",
      "14/14 [==============================] - 1s 54ms/step - loss: 0.5233 - val_loss: 0.4790\n",
      "Epoch 11/600\n",
      "14/14 [==============================] - 1s 44ms/step - loss: 0.5138 - val_loss: 0.4561\n",
      "Epoch 12/600\n",
      "14/14 [==============================] - 1s 58ms/step - loss: 0.4939 - val_loss: 0.4410\n",
      "Epoch 13/600\n",
      "14/14 [==============================] - 1s 56ms/step - loss: 0.4851 - val_loss: 0.4258\n",
      "Epoch 14/600\n",
      "14/14 [==============================] - 1s 55ms/step - loss: 0.4676 - val_loss: 0.4029\n",
      "Epoch 15/600\n",
      "14/14 [==============================] - 0s 34ms/step - loss: 0.4564 - val_loss: 0.3764\n",
      "Epoch 16/600\n",
      "14/14 [==============================] - 1s 38ms/step - loss: 0.4239 - val_loss: 0.3595\n",
      "Epoch 17/600\n",
      "14/14 [==============================] - 1s 57ms/step - loss: 0.4283 - val_loss: 0.3452\n",
      "Epoch 18/600\n",
      "14/14 [==============================] - 1s 51ms/step - loss: 0.3966 - val_loss: 0.3253\n",
      "Epoch 19/600\n",
      "14/14 [==============================] - 1s 95ms/step - loss: 0.3789 - val_loss: 0.3001\n",
      "Epoch 20/600\n",
      "14/14 [==============================] - 0s 33ms/step - loss: 0.3642 - val_loss: 0.2873\n",
      "Epoch 21/600\n",
      "14/14 [==============================] - 1s 51ms/step - loss: 0.3484 - val_loss: 0.2675\n",
      "Epoch 22/600\n",
      "14/14 [==============================] - 1s 48ms/step - loss: 0.3602 - val_loss: 0.2556\n",
      "Epoch 23/600\n",
      "14/14 [==============================] - 1s 39ms/step - loss: 0.3528 - val_loss: 0.2523\n",
      "Epoch 24/600\n",
      "14/14 [==============================] - 1s 48ms/step - loss: 0.3174 - val_loss: 0.2348\n",
      "Epoch 25/600\n",
      "14/14 [==============================] - 1s 50ms/step - loss: 0.3225 - val_loss: 0.2240\n",
      "Epoch 26/600\n",
      "14/14 [==============================] - 1s 73ms/step - loss: 0.2824 - val_loss: 0.2141\n",
      "Epoch 27/600\n",
      "14/14 [==============================] - 1s 58ms/step - loss: 0.2894 - val_loss: 0.1980\n",
      "Epoch 28/600\n",
      "14/14 [==============================] - 1s 75ms/step - loss: 0.2972 - val_loss: 0.1877\n",
      "Epoch 29/600\n",
      "14/14 [==============================] - 1s 86ms/step - loss: 0.2769 - val_loss: 0.1846\n",
      "Epoch 30/600\n",
      "14/14 [==============================] - 1s 63ms/step - loss: 0.2711 - val_loss: 0.1814\n",
      "Epoch 31/600\n",
      "14/14 [==============================] - 1s 55ms/step - loss: 0.2707 - val_loss: 0.1756\n",
      "Epoch 32/600\n",
      "14/14 [==============================] - 0s 30ms/step - loss: 0.2688 - val_loss: 0.1731\n",
      "Epoch 33/600\n",
      "14/14 [==============================] - 1s 53ms/step - loss: 0.2686 - val_loss: 0.1648\n",
      "Epoch 34/600\n",
      "14/14 [==============================] - 0s 30ms/step - loss: 0.2600 - val_loss: 0.1675\n",
      "Epoch 35/600\n",
      "14/14 [==============================] - 1s 61ms/step - loss: 0.2276 - val_loss: 0.1528\n",
      "Epoch 36/600\n",
      "14/14 [==============================] - 1s 38ms/step - loss: 0.2253 - val_loss: 0.1524\n",
      "Epoch 37/600\n",
      "14/14 [==============================] - 1s 47ms/step - loss: 0.2303 - val_loss: 0.1468\n",
      "Epoch 38/600\n",
      "14/14 [==============================] - 0s 32ms/step - loss: 0.2257 - val_loss: 0.1352\n",
      "Epoch 39/600\n",
      "14/14 [==============================] - 1s 50ms/step - loss: 0.2239 - val_loss: 0.1394\n",
      "Epoch 40/600\n",
      "14/14 [==============================] - 0s 29ms/step - loss: 0.2458 - val_loss: 0.1440\n",
      "Epoch 41/600\n",
      "14/14 [==============================] - 1s 38ms/step - loss: 0.2397 - val_loss: 0.1353\n",
      "Epoch 42/600\n",
      "14/14 [==============================] - 1s 45ms/step - loss: 0.2105 - val_loss: 0.1346\n",
      "Epoch 43/600\n",
      "14/14 [==============================] - 1s 40ms/step - loss: 0.2008 - val_loss: 0.1298\n",
      "Epoch 44/600\n",
      "14/14 [==============================] - 1s 75ms/step - loss: 0.2120 - val_loss: 0.1217\n",
      "Epoch 45/600\n",
      "14/14 [==============================] - 1s 79ms/step - loss: 0.2026 - val_loss: 0.1203\n",
      "Epoch 46/600\n",
      "14/14 [==============================] - 1s 45ms/step - loss: 0.2080 - val_loss: 0.1182\n",
      "Epoch 47/600\n",
      "14/14 [==============================] - 1s 43ms/step - loss: 0.1827 - val_loss: 0.1235\n",
      "Epoch 48/600\n",
      "14/14 [==============================] - 0s 28ms/step - loss: 0.1859 - val_loss: 0.1183\n",
      "Epoch 49/600\n",
      "14/14 [==============================] - 1s 36ms/step - loss: 0.1932 - val_loss: 0.1246\n",
      "Epoch 50/600\n",
      "14/14 [==============================] - 1s 45ms/step - loss: 0.1922 - val_loss: 0.1140\n",
      "Epoch 51/600\n",
      "14/14 [==============================] - 1s 39ms/step - loss: 0.1888 - val_loss: 0.1174\n",
      "Epoch 52/600\n",
      "14/14 [==============================] - 1s 39ms/step - loss: 0.1858 - val_loss: 0.1222\n",
      "Epoch 53/600\n",
      "14/14 [==============================] - 0s 34ms/step - loss: 0.1787 - val_loss: 0.1094\n",
      "Epoch 54/600\n",
      "14/14 [==============================] - 1s 48ms/step - loss: 0.1896 - val_loss: 0.1097\n",
      "Epoch 55/600\n",
      "14/14 [==============================] - 1s 47ms/step - loss: 0.1517 - val_loss: 0.1041\n",
      "Epoch 56/600\n",
      "14/14 [==============================] - 1s 37ms/step - loss: 0.1618 - val_loss: 0.1090\n",
      "Epoch 57/600\n",
      "14/14 [==============================] - 1s 38ms/step - loss: 0.1798 - val_loss: 0.1131\n",
      "Epoch 58/600\n",
      "14/14 [==============================] - 1s 37ms/step - loss: 0.1461 - val_loss: 0.1073\n",
      "Epoch 59/600\n",
      "14/14 [==============================] - 0s 32ms/step - loss: 0.1566 - val_loss: 0.1064\n",
      "Epoch 60/600\n",
      "14/14 [==============================] - 1s 38ms/step - loss: 0.1601 - val_loss: 0.1067\n",
      "Epoch 61/600\n",
      "14/14 [==============================] - 1s 43ms/step - loss: 0.1584 - val_loss: 0.1032\n",
      "Epoch 62/600\n",
      "14/14 [==============================] - 1s 42ms/step - loss: 0.1702 - val_loss: 0.1079\n",
      "Epoch 63/600\n",
      "14/14 [==============================] - 1s 42ms/step - loss: 0.1398 - val_loss: 0.0987\n",
      "Epoch 64/600\n",
      "14/14 [==============================] - 0s 35ms/step - loss: 0.1357 - val_loss: 0.1011\n",
      "Epoch 65/600\n",
      "14/14 [==============================] - 0s 33ms/step - loss: 0.1598 - val_loss: 0.1026\n",
      "Epoch 66/600\n",
      "14/14 [==============================] - 1s 41ms/step - loss: 0.1339 - val_loss: 0.1090\n",
      "Epoch 67/600\n",
      "14/14 [==============================] - 0s 31ms/step - loss: 0.1251 - val_loss: 0.1000\n",
      "Epoch 68/600\n",
      "14/14 [==============================] - 1s 36ms/step - loss: 0.1420 - val_loss: 0.1099\n",
      "Epoch 69/600\n",
      "14/14 [==============================] - 1s 57ms/step - loss: 0.1549 - val_loss: 0.0984\n",
      "Epoch 70/600\n",
      "14/14 [==============================] - 1s 42ms/step - loss: 0.1252 - val_loss: 0.0952\n",
      "Epoch 71/600\n",
      "14/14 [==============================] - 1s 37ms/step - loss: 0.1232 - val_loss: 0.1009\n",
      "Epoch 72/600\n",
      "14/14 [==============================] - 1s 47ms/step - loss: 0.1345 - val_loss: 0.0974\n",
      "Epoch 73/600\n",
      "14/14 [==============================] - 0s 31ms/step - loss: 0.1334 - val_loss: 0.0998\n",
      "Epoch 74/600\n",
      "14/14 [==============================] - 1s 40ms/step - loss: 0.1330 - val_loss: 0.0927\n",
      "Epoch 75/600\n",
      "14/14 [==============================] - 0s 35ms/step - loss: 0.1243 - val_loss: 0.0947\n",
      "Epoch 76/600\n"
     ]
    },
    {
     "name": "stdout",
     "output_type": "stream",
     "text": [
      "14/14 [==============================] - 1s 39ms/step - loss: 0.1373 - val_loss: 0.0921\n",
      "Epoch 77/600\n",
      "14/14 [==============================] - 1s 39ms/step - loss: 0.1313 - val_loss: 0.0979\n",
      "Epoch 78/600\n",
      "14/14 [==============================] - 1s 62ms/step - loss: 0.1250 - val_loss: 0.1064\n",
      "Epoch 79/600\n",
      "14/14 [==============================] - 1s 61ms/step - loss: 0.1302 - val_loss: 0.0943\n",
      "Epoch 80/600\n",
      "14/14 [==============================] - 0s 35ms/step - loss: 0.1272 - val_loss: 0.0960\n",
      "Epoch 81/600\n",
      "14/14 [==============================] - 1s 60ms/step - loss: 0.1177 - val_loss: 0.1094\n",
      "Epoch 82/600\n",
      "14/14 [==============================] - 1s 46ms/step - loss: 0.1253 - val_loss: 0.1046\n",
      "Epoch 83/600\n",
      "14/14 [==============================] - 1s 42ms/step - loss: 0.1276 - val_loss: 0.0921\n",
      "Epoch 84/600\n",
      "14/14 [==============================] - 1s 42ms/step - loss: 0.1083 - val_loss: 0.0895\n",
      "Epoch 85/600\n",
      "14/14 [==============================] - 1s 58ms/step - loss: 0.1256 - val_loss: 0.0959\n",
      "Epoch 86/600\n",
      "14/14 [==============================] - 0s 32ms/step - loss: 0.1186 - val_loss: 0.1004\n",
      "Epoch 87/600\n",
      "14/14 [==============================] - 1s 66ms/step - loss: 0.1054 - val_loss: 0.0967\n",
      "Epoch 88/600\n",
      "14/14 [==============================] - 1s 48ms/step - loss: 0.1241 - val_loss: 0.0986\n",
      "Epoch 89/600\n",
      "14/14 [==============================] - 1s 58ms/step - loss: 0.1151 - val_loss: 0.1046\n",
      "Epoch 90/600\n",
      "14/14 [==============================] - 1s 46ms/step - loss: 0.1119 - val_loss: 0.1028\n",
      "Epoch 91/600\n",
      "14/14 [==============================] - 1s 62ms/step - loss: 0.0970 - val_loss: 0.1048\n",
      "Epoch 92/600\n",
      "14/14 [==============================] - 1s 61ms/step - loss: 0.1173 - val_loss: 0.1222\n",
      "Epoch 93/600\n",
      "14/14 [==============================] - 1s 86ms/step - loss: 0.0898 - val_loss: 0.0964\n",
      "Epoch 94/600\n",
      "14/14 [==============================] - 1s 71ms/step - loss: 0.1141 - val_loss: 0.0938\n",
      "Epoch 95/600\n",
      "14/14 [==============================] - 1s 68ms/step - loss: 0.1330 - val_loss: 0.0999\n",
      "Epoch 96/600\n",
      "14/14 [==============================] - 1s 80ms/step - loss: 0.1065 - val_loss: 0.1015\n",
      "Epoch 97/600\n",
      "14/14 [==============================] - 1s 59ms/step - loss: 0.1189 - val_loss: 0.0970\n",
      "Epoch 98/600\n",
      "14/14 [==============================] - 1s 58ms/step - loss: 0.1040 - val_loss: 0.0976\n",
      "Epoch 99/600\n",
      "14/14 [==============================] - 0s 34ms/step - loss: 0.1114 - val_loss: 0.1047\n",
      "Epoch 100/600\n",
      "14/14 [==============================] - 0s 31ms/step - loss: 0.1184 - val_loss: 0.0942\n",
      "Epoch 101/600\n",
      "14/14 [==============================] - 0s 32ms/step - loss: 0.1182 - val_loss: 0.1003\n",
      "Epoch 102/600\n",
      "14/14 [==============================] - 1s 39ms/step - loss: 0.1167 - val_loss: 0.1215\n",
      "Epoch 103/600\n",
      "14/14 [==============================] - 1s 39ms/step - loss: 0.1115 - val_loss: 0.0962\n",
      "Epoch 104/600\n",
      "14/14 [==============================] - 1s 43ms/step - loss: 0.1010 - val_loss: 0.0996\n",
      "Epoch 105/600\n",
      "14/14 [==============================] - 1s 37ms/step - loss: 0.1112 - val_loss: 0.0984\n",
      "Epoch 106/600\n",
      "14/14 [==============================] - 1s 37ms/step - loss: 0.1101 - val_loss: 0.0932\n",
      "Epoch 107/600\n",
      "14/14 [==============================] - 1s 65ms/step - loss: 0.1147 - val_loss: 0.0945\n",
      "Epoch 108/600\n",
      "14/14 [==============================] - 0s 31ms/step - loss: 0.1144 - val_loss: 0.0928\n",
      "Epoch 109/600\n",
      "14/14 [==============================] - 1s 64ms/step - loss: 0.0999 - val_loss: 0.0956\n",
      "Epoch 00109: early stopping\n"
     ]
    },
    {
     "data": {
      "text/plain": [
       "<tensorflow.python.keras.callbacks.History at 0x2867b206160>"
      ]
     },
     "execution_count": 18,
     "metadata": {},
     "output_type": "execute_result"
    }
   ],
   "source": [
    "model.fit(x=X_train, \n",
    "          y=y_train, \n",
    "          epochs=600,\n",
    "          validation_data=(X_test, y_test), verbose=1,\n",
    "          callbacks=[early_stop,board]\n",
    "          )"
   ]
  },
  {
   "cell_type": "markdown",
   "metadata": {},
   "source": [
    "# Running Tensorboard\n"
   ]
  },
  {
   "cell_type": "markdown",
   "metadata": {},
   "source": [
    "## Running through the Command Line\n",
    "\n",
    "**Watch video to see how to run Tensorboard through a command line call.**"
   ]
  },
  {
   "cell_type": "markdown",
   "metadata": {},
   "source": [
    "Tensorboard will run locally in your browser at [http://localhost:6006/](http://localhost:6006/)\n"
   ]
  },
  {
   "cell_type": "code",
   "execution_count": 19,
   "metadata": {},
   "outputs": [
    {
     "name": "stdout",
     "output_type": "stream",
     "text": [
      "logs\\fit\\2020-09-28--0918\n"
     ]
    }
   ],
   "source": [
    "print(log_directory)"
   ]
  },
  {
   "cell_type": "code",
   "execution_count": 20,
   "metadata": {},
   "outputs": [
    {
     "data": {
      "text/plain": [
       "'C:\\\\Users\\\\Jake\\\\Documents\\\\Class stuff\\\\Python ML class\\\\Course Repository\\\\TensorFlow_FILES\\\\ANNs'"
      ]
     },
     "execution_count": 20,
     "metadata": {},
     "output_type": "execute_result"
    }
   ],
   "source": [
    "pwd"
   ]
  },
  {
   "cell_type": "markdown",
   "metadata": {},
   "source": [
    "### Use cd at your command line to change directory to the file path reported back by pwd or your current .py file location.\n",
    "### Then run this code at your command line or terminal"
   ]
  },
  {
   "cell_type": "code",
   "execution_count": null,
   "metadata": {},
   "outputs": [],
   "source": [
    "tensorboard --logdir logs\\fit "
   ]
  }
 ],
 "metadata": {
  "kernelspec": {
   "display_name": "Python 3",
   "language": "python",
   "name": "python3"
  },
  "language_info": {
   "codemirror_mode": {
    "name": "ipython",
    "version": 3
   },
   "file_extension": ".py",
   "mimetype": "text/x-python",
   "name": "python",
   "nbconvert_exporter": "python",
   "pygments_lexer": "ipython3",
   "version": "3.8.3"
  }
 },
 "nbformat": 4,
 "nbformat_minor": 2
}
